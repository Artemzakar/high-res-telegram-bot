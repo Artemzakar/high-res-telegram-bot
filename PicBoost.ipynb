{
  "nbformat": 4,
  "nbformat_minor": 0,
  "metadata": {
    "colab": {
      "provenance": []
    },
    "kernelspec": {
      "name": "python3",
      "display_name": "Python 3"
    },
    "language_info": {
      "name": "python"
    }
  },
  "cells": [
    {
      "cell_type": "code",
      "source": [
        "!pip install udocker\n",
        "!udocker --allow-root install\n",
        "!udocker --allow-root run artemzakar/high-res-telegram-bot:v3"
      ],
      "metadata": {
        "id": "ItOJ6p22ucHw"
      },
      "execution_count": null,
      "outputs": []
    },
    {
      "cell_type": "code",
      "source": [],
      "metadata": {
        "id": "agPLOcJdwkIe"
      },
      "execution_count": null,
      "outputs": []
    }
  ]
}